{
 "cells": [
  {
   "cell_type": "code",
   "execution_count": 1,
   "metadata": {},
   "outputs": [],
   "source": [
    "import scipy.integrate as it\n",
    "import matplotlib.pyplot as plt\n",
    "import numpy as np\n"
   ]
  },
  {
   "cell_type": "code",
   "execution_count": 2,
   "metadata": {},
   "outputs": [],
   "source": [
    "# Distance to cover\n",
    "D = 5"
   ]
  },
  {
   "cell_type": "code",
   "execution_count": 3,
   "metadata": {},
   "outputs": [],
   "source": [
    "# Hyperparameters\n",
    "v_max = min(D/2, 1)\n",
    "a_max = 0.75*v_max\n",
    "j=1"
   ]
  },
  {
   "cell_type": "code",
   "execution_count": 4,
   "metadata": {},
   "outputs": [],
   "source": [
    "# Final Velocities\n",
    "\n",
    "vf1 = (a_max**2)/(2*j)\n",
    "vf2 = v_max - (a_max**2)/(2*j)\n",
    "vf3 = v_max\n",
    "vf4 = v_max\n",
    "vf5 = v_max - (a_max**2)/(2*j)\n",
    "vf6 = (a_max**2)/(2*j)\n",
    "vf7 = 0"
   ]
  },
  {
   "cell_type": "code",
   "execution_count": 5,
   "metadata": {},
   "outputs": [],
   "source": [
    "# Time computation\n",
    "\n",
    "tp1 = a_max/j\n",
    "tp2 = (vf2 - vf1)/a_max\n",
    "tp3 = a_max/j\n",
    "tp4 = ((a_max*j*D) - (v_max*a_max**2) - (j*v_max**2))/(j*a_max*v_max)\n",
    "tp5= a_max/j\n",
    "tp6=(vf5 - vf6)/a_max\n",
    "tp7=a_max/j\n",
    "\n",
    "\n",
    "T = tp1 + tp2 + tp3 + tp4 + tp5 + tp6 + tp7"
   ]
  },
  {
   "cell_type": "code",
   "execution_count": 6,
   "metadata": {},
   "outputs": [],
   "source": [
    "# Time steps\n",
    "t_steps = np.arange(0, T, 0.001)"
   ]
  },
  {
   "cell_type": "code",
   "execution_count": 7,
   "metadata": {},
   "outputs": [],
   "source": [
    "# velocity function\n",
    "\n",
    "def v(t):\n",
    "    # Phase 1\n",
    "    if t <= tp1:\n",
    "        return j*(t**2)/2\n",
    "    # Phase 2\n",
    "    elif t <= tp1 + tp2:\n",
    "        t_curr = t - tp1\n",
    "        return vf1 + (a_max * t_curr)\n",
    "    # Phase 3\n",
    "    elif t <= tp1 + tp2 + tp3:\n",
    "        t_curr = t - tp1 - tp2\n",
    "        return vf2 + a_max*t_curr - (j*(t_curr**2))/2\n",
    "    # Phase 4\n",
    "    elif t<= tp1 + tp2 + tp3 + tp4:\n",
    "        t_curr = t - tp1 - tp2 - tp3\n",
    "        return vf3\n",
    "    # Phase 5\n",
    "    elif t <= tp1 + tp2 + tp3 + tp4 + tp5:\n",
    "        t_curr = t - tp1 - tp2 - tp3 - tp4\n",
    "        return vf4 - (j*(t_curr**2))/2\n",
    "    # Phase 6\n",
    "    elif t <= tp1 + tp2 + tp3 + tp4 + tp5 + tp6:\n",
    "        t_curr = t - tp1 - tp2 - tp3 - tp4 - tp5\n",
    "        return vf5 - a_max*t_curr\n",
    "    else:\n",
    "        t_curr = t - tp1 - tp2 - tp3 - tp4 - tp5 - tp6\n",
    "        return vf6 - a_max*t_curr + (j * (t_curr**2))/2"
   ]
  },
  {
   "cell_type": "code",
   "execution_count": 8,
   "metadata": {},
   "outputs": [],
   "source": [
    "vel = []\n",
    "\n",
    "for t in t_steps:\n",
    "    vel.append(v(t))\n"
   ]
  },
  {
   "cell_type": "code",
   "execution_count": 9,
   "metadata": {},
   "outputs": [
    {
     "data": {
      "image/png": "[encoded data removed]",
      "text/plain": [
       "<Figure size 432x288 with 1 Axes>"
      ]
     },
     "metadata": {
      "needs_background": "light"
     },
     "output_type": "display_data"
    }
   ],
   "source": [
    "plt.plot(t_steps, vel)\n",
    "plt.plot((tp1, tp1), (0, v_max), '--')\n",
    "plt.plot((tp1 + tp2, tp1 + tp2), (0, v_max), '--')\n",
    "plt.plot((tp1 + tp2 + tp3, tp1 + tp2 + tp3), (0, v_max), '--')\n",
    "plt.plot((tp1 + tp2 + tp3 + tp4, tp1 + tp2 + tp3 + tp4), (0, v_max), '--')\n",
    "plt.plot((tp1 + tp2 + tp3 + tp4 + tp5, tp1 + tp2 + tp3 + tp4 + tp5), (0, v_max), '--')\n",
    "plt.plot((tp1 + tp2 + tp3 + tp4 + tp5 + tp6, tp1 + tp2 + tp3 + tp4+ tp5+ tp6), (0, v_max), '--')\n",
    "plt.plot((tp1 + tp2 + tp3 + tp4 + tp5 + tp6 + tp7, tp1 + tp2 + tp3 + tp4 + tp5 + tp6 + tp7), (0, v_max), '--')\n",
    "plt.title(\"Velocity-Time Graph\")\n",
    "plt.show()\n"
   ]
  },
  {
   "cell_type": "code",
   "execution_count": 10,
   "metadata": {},
   "outputs": [],
   "source": [
    "p = it.cumulative_trapezoid(vel, t_steps)\n"
   ]
  },
  {
   "cell_type": "code",
   "execution_count": 11,
   "metadata": {},
   "outputs": [
    {
     "data": {
      "image/png": "[encoded data removed]",
      "text/plain": [
       "<Figure size 432x288 with 1 Axes>"
      ]
     },
     "metadata": {
      "needs_background": "light"
     },
     "output_type": "display_data"
    }
   ],
   "source": [
    "plt.plot(t_steps[1:], p)\n",
    "plt.plot((0, T), (D, D), '--')\n",
    "plt.title(\"Position-Time Graph\")\n",
    "plt.show()\n"
   ]
  },
  {
   "cell_type": "code",
   "execution_count": 12,
   "metadata": {},
   "outputs": [
    {
     "name": "stdout",
     "output_type": "stream",
     "text": [
      "Final Position: 4.99999999997222\n"
     ]
    }
   ],
   "source": [
    "print(f\"Final Position: {p[-1]}\")\n"
   ]
  }
 ],
 "metadata": {
  "kernelspec": {
   "display_name": "Python 3.7.11 ('base')",
   "language": "python",
   "name": "python3"
  },
  "language_info": {
   "codemirror_mode": {
    "name": "ipython",
    "version": 3
   },
   "file_extension": ".py",
   "mimetype": "text/x-python",
   "name": "python",
   "nbconvert_exporter": "python",
   "pygments_lexer": "ipython3",
   "version": "3.7.11"
  },
  "orig_nbformat": 4,
  "vscode": {
   "interpreter": {
    "hash": "745acbd60b3d3a97c5945352b8ea4157d78b838f777f5ff9015d2ad09d6a6d28"
   }
  }
 },
 "nbformat": 4,
 "nbformat_minor": 2
}
